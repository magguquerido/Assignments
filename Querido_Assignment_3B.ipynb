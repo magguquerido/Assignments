{
 "cells": [
  {
   "cell_type": "markdown",
   "metadata": {},
   "source": [
    "# ITMGT 25.03 EE\n",
    "# Assignment 3B\n",
    "\n",
    "This is a data-cleaning assignment and is the second of two parts. This notebook is uploaded to our Github repository along with a csv of fake, dirty data called **recweekdata.csv**.\n",
    "\n",
    "In addition, you have a new file called **studentprofiles.csv** which has first and last names plus the genders of the students.\n",
    "\n",
    "The output of this assignment is to convert recweekdata.csv into processable data for statistics. Submit the following files through GitHub:\n",
    "1. A cleaned recweekdata.csv called **cleanrecweekdata3b.csv** **(5 points)**\n",
    "2. This notebook, containing the code (properly commented) that you used to clean the data **(5 points)**\n",
    "3. An html file of summary statistics from each column called **stats3b.html**. The requirements for the summary statistics are described below. **(10 points)**\n",
    "\n",
    "The outputs are similar to that of Assignment 3A, except that you will now use Pandas instead of Python lists.\n",
    "\n",
    "This entire assignment (3B) is worth 20 points.\n",
    "\n",
    "Upload your output files to your Github repositories. Make sure to send an email to **joben.ilagan@gmail.com** once you're done.\n",
    "\n",
    "This assignment is due on **Monday, July 9, 2019** at 12:00NN.\n",
    "\n",
    "Note: I understand you all need to review for LT 2. Think of this Assignment as practice. It's not meant to take you as long as 3A.\n",
    "\n",
    "#### Bonus Points:\n",
    "* +2 if submitted over (or before) the weekend (July 13-14)\n",
    "* +2 if CSS and div tags are used (but please don't spend too much time on this because you still need to review for the Long Test)"
   ]
  },
  {
   "cell_type": "code",
   "execution_count": 2,
   "metadata": {},
   "outputs": [],
   "source": [
    "# Importing\n",
    "import pandas as pd\n",
    "import re\n",
    "\n",
    "# Reading csvs\n",
    "rwdata = pd.read_csv(\"recweekdata.csv\")\n",
    "gdata = pd.read_csv(\"studentprofiles.csv\")\n",
    "\n",
    "# Cleaning birthmonth\n",
    "rwdata[\"birthmonth\"] = rwdata[\"birthmonth\"].replace(r\"\\b1\\b|Jan$\",r\"January\",regex=True)\n",
    "rwdata[\"birthmonth\"] = rwdata[\"birthmonth\"].replace(r\"\\b2\\b|Feb$\",r\"February\",regex=True)\n",
    "rwdata[\"birthmonth\"] = rwdata[\"birthmonth\"].replace(r\"\\b3\\b|Mar$\",r\"March\",regex=True)\n",
    "rwdata[\"birthmonth\"] = rwdata[\"birthmonth\"].replace(r\"\\b4\\b|Apr$\",r\"April\",regex=True)\n",
    "rwdata[\"birthmonth\"] = rwdata[\"birthmonth\"].replace(r\"\\b5\\b\",r\"May\",regex=True)\n",
    "rwdata[\"birthmonth\"] = rwdata[\"birthmonth\"].replace(r\"\\b6\\b|Jun$\",r\"June\",regex=True)\n",
    "rwdata[\"birthmonth\"] = rwdata[\"birthmonth\"].replace(r\"\\b7\\b|Jul$\",r\"July\",regex=True)\n",
    "rwdata[\"birthmonth\"] = rwdata[\"birthmonth\"].replace(r\"\\b8\\b|Aug$\",r\"August\",regex=True)\n",
    "rwdata[\"birthmonth\"] = rwdata[\"birthmonth\"].replace(r\"\\b9\\b|Sep$\",r\"September\",regex=True)\n",
    "rwdata[\"birthmonth\"] = rwdata[\"birthmonth\"].replace(r\"\\b10\\b|Oct$\",r\"October\",regex=True)\n",
    "rwdata[\"birthmonth\"] = rwdata[\"birthmonth\"].replace(r\"\\b11\\b|Nov$\",r\"November\",regex=True)\n",
    "rwdata[\"birthmonth\"] = rwdata[\"birthmonth\"].replace(r\"\\b12\\b|Dec$\",r\"December\",regex=True)\n",
    "\n",
    "# Cleaning birthyear\n",
    "rwdata[\"birthyear\"] = rwdata[\"birthyear\"].astype(str).replace(r\"(^9[7-9])\",r\"19\\1\",regex=True)\n",
    "\n",
    "# Cleaning course\n",
    "rwdata[\"course\"] = rwdata[\"course\"].replace(r\"^Communications Technology|^BS CTM|^CTM\",\"BS Communications Technology Management\",regex=True)\n",
    "rwdata[\"course\"] = rwdata[\"course\"].replace(r\"^Information Technology Entrepreneurship|^BS ITE|^ITE\",\"BS Information Technology Entrepreneurship\",regex=True)\n",
    "rwdata[\"course\"] = rwdata[\"course\"].replace(r\"^Legal Management|^BS LM|^LM\",\"BS Legal Management\",regex=True)\n",
    "rwdata[\"course\"] = rwdata[\"course\"].replace(r\"^Management|^BS MGT|^MGT\",\"BS Management\",regex=True)\n",
    "rwdata[\"course\"] = rwdata[\"course\"].replace(r\"^Management Engineering|^BS ME|^ME\",\"BS Management Engineering\",regex=True)\n",
    "\n",
    "# Cleaning phonenumber\n",
    "rwdata[\"phonenumber\"] = rwdata[\"phonenumber\"].replace(r\"^9\",r\"+63 9\",regex=True)\n",
    "rwdata[\"phonenumber\"] = rwdata[\"phonenumber\"].replace(r\"(...) (...) (...) (....)\",r\"\\1\\2\\3\\4\",regex=True)\n",
    "\n",
    "# Adding carrier\n",
    "carrier = {\"+63917\":\"Globe\",\"+63918\":\"Smart\", \"+63927\":\"Globe\"}\n",
    "rwdata[\"carrier\"] = rwdata[\"phonenumber\"].str[0:6].apply(lambda x: carrier[x])\n",
    "\n",
    "# Merging\n",
    "data = pd.merge(rwdata,gdata)\n",
    "\n",
    "# Writing cleanrecweekdata3b.csv\n",
    "data.to_csv(\"cleanrecweekdata3b.csv\",index=False)"
   ]
  },
  {
   "cell_type": "markdown",
   "metadata": {},
   "source": [
    "# Required Summary Statistics\n",
    "\n",
    "#### These were the questions from 3A:\n",
    "\n",
    "1. How many people were born in each month?\n",
    "2. How many people were born on each day?\n",
    "3. How many people were born in each year?\n",
    "4. How many people come from each course?\n",
    "5. How many people have numbers from Globe (0917 or 0927) and Smart (0918)? *Note: it's up to you how to format this output*\n",
    "\n",
    "#### Additional Questions:\n",
    "* How many Globe subscribers are: Male? Female?\n",
    "* How many Smart subscribers are: Male? Female?\n",
    "\n",
    "Answer these questions in an html file called **stats3b.html**. The format of the html is as follows (in template form, so you can use this as format string in your program, though feel free to modify with variable names if you find it easier to do so):\n"
   ]
  },
  {
   "cell_type": "markdown",
   "metadata": {},
   "source": [
    "```\n",
    "<html>\n",
    "    <body>\n",
    "         <h2>Summary Statistics</h2>\n",
    "         <table>\n",
    "             <tr><th>Stat</th><th>Value</th></tr>\n",
    "             <tr><td>People born in each month</td><td>{}</td></tr>\n",
    "             <tr><td>People born on each day</td><td>{}</td></tr>\n",
    "             <tr><td>People born in each year</td><td>{}</td></tr>\n",
    "             <tr><td>People coming from each course</td><td>{}</td></tr>\n",
    "             <tr><td>People having numbers from Globe and Smart</td><td>{}</td></tr>\n",
    "             <tr><td>Male Globe subscribers:</td><td>{}</td></tr>\n",
    "             <tr><td>Female Globe subscribers:</td><td>{}</td></tr>\n",
    "             <tr><td>Male Smart subscribers:</td><td>{}</td></tr>\n",
    "             <tr><td>Female Smart subscribers:</td><td>{}</td></tr>\n",
    "         </table>\n",
    "    </body>\n",
    "</html>\n",
    "```"
   ]
  },
  {
   "cell_type": "code",
   "execution_count": 143,
   "metadata": {},
   "outputs": [
    {
     "data": {
      "text/plain": [
       "'<td>January:270</td><td>February:232</td><td>March:246</td><td>April:267</td><td>May:273</td><td>June:259</td><td>August:241</td><td>September:232</td><td>October:178</td><td>November:277</td><td>December:276</td>'"
      ]
     },
     "execution_count": 143,
     "metadata": {},
     "output_type": "execute_result"
    }
   ],
   "source": [
    "# How many people were born in each month?\n",
    "monthdf = data.loc[:,[\"firstname\",\"birthmonth\"]].groupby(\"birthmonth\")[\"firstname\"].count()\n",
    "months = [\"January\",\"February\",\"March\",\"April\",\"May\",\"June\",\"August\",\"September\",\"October\",\"November\",\"December\"]\n",
    "monthdict = {}\n",
    "monthhtml = \"\"\n",
    "for i in months:\n",
    "    monthdict[i] = monthdf[i]\n",
    "    monthhtml += \"<td>\"+i+\":\"+str(monthdict[i])+\"</td>\"\n",
    "monthhtml\n",
    "    "
   ]
  },
  {
   "cell_type": "code",
   "execution_count": 148,
   "metadata": {},
   "outputs": [
    {
     "data": {
      "text/plain": [
       "'<td>1:112</td><td>2:106</td><td>3:90</td><td>4:110</td><td>5:100</td><td>6:99</td><td>7:88</td><td>8:111</td><td>9:98</td><td>10:111</td><td>11:105</td><td>12:98</td><td>13:119</td><td>14:102</td><td>15:121</td><td>16:115</td><td>17:116</td><td>18:107</td><td>19:113</td><td>20:91</td><td>21:123</td><td>22:103</td><td>23:116</td><td>24:108</td><td>25:116</td><td>26:116</td><td>27:102</td><td>28:104</td>'"
      ]
     },
     "execution_count": 148,
     "metadata": {},
     "output_type": "execute_result"
    }
   ],
   "source": [
    "# How many people were born on each day?\n",
    "birthdaydf = data.loc[:,[\"firstname\",\"birthday\"]].groupby(\"birthday\")[\"firstname\"].count()\n",
    "days = [\"1\",\"2\",\"3\",\"4\",\"5\",\"6\",\"7\",\"8\",\"9\",\"10\",\"11\",\"12\",\"13\",\"14\",\"15\",\"16\",\"17\",\"18\",\"19\",\"20\",\"21\",\"22\",\"23\",\"24\",\"25\",\"26\",\"27\",\"28\"]\n",
    "birthdaydict = {}\n",
    "birthdayhtml = \"\"\n",
    "for i in days:\n",
    "    birthdaydict[i] = birthdaydf[int(i)]\n",
    "    birthdayhtml += \"<td>\"+i+\":\"+str(birthdaydict[i])+\"</td>\"\n",
    "birthdayhtml"
   ]
  },
  {
   "cell_type": "code",
   "execution_count": 149,
   "metadata": {},
   "outputs": [
    {
     "data": {
      "text/plain": [
       "'<td>1997:756</td><td>1998:746</td><td>1999:756</td><td>2000:380</td><td>2001:362</td>'"
      ]
     },
     "execution_count": 149,
     "metadata": {},
     "output_type": "execute_result"
    }
   ],
   "source": [
    "# How many people were born in each year?\n",
    "birthyeardf = data.loc[:,[\"firstname\",\"birthyear\"]].groupby(\"birthyear\")[\"firstname\"].count()\n",
    "years = [\"1997\",\"1998\",\"1999\",\"2000\",\"2001\"]\n",
    "birthyeardict = {}\n",
    "birthyearhtml = \"\"\n",
    "for i in years:\n",
    "    birthyeardict[i] = birthyeardf[i]\n",
    "    birthyearhtml += \"<td>\"+i+\":\"+str(birthyeardict[i])+\"</td>\"\n",
    "birthyearhtml"
   ]
  },
  {
   "cell_type": "code",
   "execution_count": 150,
   "metadata": {},
   "outputs": [
    {
     "data": {
      "text/plain": [
       "'<td>BS Communications Technology Management:589</td><td>BS Information Technology Entrepreneurship:590</td><td>BS Legal Management:585</td><td>BS Management:629</td><td>BS Management Engineering:607</td>'"
      ]
     },
     "execution_count": 150,
     "metadata": {},
     "output_type": "execute_result"
    }
   ],
   "source": [
    "# How many people come from each course?\n",
    "coursedf = data.loc[:,[\"firstname\",\"course\"]].groupby(\"course\")[\"firstname\"].count()\n",
    "courses = [\"BS Communications Technology Management\",\"BS Information Technology Entrepreneurship\",\"BS Legal Management\",\"BS Management\",\"BS Management Engineering\"]\n",
    "coursedict = {}\n",
    "coursehtml = \"\"\n",
    "for i in courses:\n",
    "    coursedict[i] = coursedf[i]\n",
    "    coursehtml += \"<td>\"+i+\":\"+str(coursedict[i])+\"</td>\"\n",
    "coursehtml"
   ]
  },
  {
   "cell_type": "code",
   "execution_count": 151,
   "metadata": {},
   "outputs": [
    {
     "data": {
      "text/plain": [
       "'<td>Globe:2045</td><td>Smart:955</td>'"
      ]
     },
     "execution_count": 151,
     "metadata": {},
     "output_type": "execute_result"
    }
   ],
   "source": [
    "# How many people have numbers from Globe (0917 or 0927) and Smart (0918)?\n",
    "carrierdf = data.loc[:,[\"firstname\",\"carrier\"]].groupby(\"carrier\")[\"firstname\"].count()\n",
    "carriers = [\"Globe\",\"Smart\"]\n",
    "carrierdict = {}\n",
    "carrierhtml = \"\"\n",
    "for i in carriers:\n",
    "    carrierdict[i] = carrierdf[i]\n",
    "    carrierhtml += \"<td>\"+i+\":\"+str(carrierdict[i])+\"</td>\"\n",
    "carrierhtml"
   ]
  },
  {
   "cell_type": "code",
   "execution_count": 158,
   "metadata": {},
   "outputs": [],
   "source": [
    "# How many Globe subscribers are: Male? Female?\n",
    "# How many Smart subscribers are: Male? Female?\n",
    "carriergenderdf = data.loc[:,[\"firstname\",\"carrier\",\"gender\"]].groupby([\"carrier\",\"gender\"])[\"firstname\"].count()\n",
    "maleglobe = carriergenderdf[(\"Globe\",\"Male\")]\n",
    "femaleglobe = carriergenderdf[(\"Globe\",\"Female\")]\n",
    "malesmart = carriergenderdf[(\"Smart\",\"Male\")]\n",
    "femalesmart = carriergenderdf[(\"Smart\",\"Female\")]"
   ]
  },
  {
   "cell_type": "code",
   "execution_count": 160,
   "metadata": {},
   "outputs": [],
   "source": [
    "from IPython.core.display import HTML\n",
    "\n",
    "html = \"\"\"\n",
    "<html>\n",
    "    <head>\n",
    "        <title>Querido_Assignment_3B</title>\n",
    "    </head>\n",
    "    <body>\n",
    "        <h2>Summary Statistics</h2>\n",
    "        <table>\n",
    "            <thead>\n",
    "                <tr><th>Stat</th><th>Value</th></tr>\n",
    "            </thead>\n",
    "            <tbody>\n",
    "                <tr>\n",
    "                    <td>People born in each month</td>\n",
    "                    {monthhtml}\n",
    "                </tr>\n",
    "                <tr>\n",
    "                    <td>People born on each day</td>\n",
    "                    {birthdayhtml}\n",
    "                </tr>\n",
    "                <tr>\n",
    "                    <td>People born in each year</td>\n",
    "                    {birthyearhtml}\n",
    "                </tr>\n",
    "                <tr>\n",
    "                    <td>People coming from each course</td>\n",
    "                    {coursehtml}\n",
    "                </tr>\n",
    "                <tr>\n",
    "                    <td>People having numbers from Globe and Smart</td>\n",
    "                    {carrierhtml}\n",
    "                </tr>\n",
    "                  <tr>\n",
    "                    <td>Male Globe Subscribers</td>\n",
    "                    <td>\n",
    "                        {maleglobe}\n",
    "                    </td>\n",
    "                </tr>\n",
    "                <tr>\n",
    "                    <td>Female Globe Subscribers</td>\n",
    "                    <td>\n",
    "                        {femaleglobe}\n",
    "                    </td>\n",
    "                </tr>\n",
    "                <tr>\n",
    "                    <td>Male Smart Subscribers</td>\n",
    "                    <td>\n",
    "                        {malesmart}\n",
    "                    </td>\n",
    "                </tr>\n",
    "                <tr>\n",
    "                    <td>Female Smart Subscribers</td>\n",
    "                    <td>\n",
    "                        {femalesmart}\n",
    "                    </td>\n",
    "                </tr>\n",
    "            </tbody>\n",
    "        </table>\n",
    "    </body>\n",
    "</html>\n",
    "\"\"\"\n",
    "html_output=html.format(monthhtml=monthhtml,birthdayhtml=birthdayhtml,birthyearhtml=birthyearhtml,coursehtml=coursehtml,carrierhtml=carrierhtml,maleglobe=maleglobe,femaleglobe=femaleglobe,malesmart=malesmart,femalesmart=femalesmart)\n",
    "with open('stats3b.html','w') as stats:\n",
    "    stats.write(str(html_output))"
   ]
  }
 ],
 "metadata": {
  "kernelspec": {
   "display_name": "Python 3",
   "language": "python",
   "name": "python3"
  },
  "language_info": {
   "codemirror_mode": {
    "name": "ipython",
    "version": 3
   },
   "file_extension": ".py",
   "mimetype": "text/x-python",
   "name": "python",
   "nbconvert_exporter": "python",
   "pygments_lexer": "ipython3",
   "version": "3.7.3"
  }
 },
 "nbformat": 4,
 "nbformat_minor": 2
}
