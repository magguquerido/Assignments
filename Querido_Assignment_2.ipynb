{
 "cells": [
  {
   "cell_type": "markdown",
   "metadata": {},
   "source": [
    "## CoffeePython POS Terminal"
   ]
  },
  {
   "cell_type": "markdown",
   "metadata": {},
   "source": [
    "CoffeePython is a new specialty coffee place along Katipunan. It commissioned students to build a crude character-mode terminal based on Python.\n",
    "\n",
    "It has the following products:\n",
    "\n",
    "\n",
    "| Code          | Product Name  |  Price |\n",
    "|---------------|---------------|--------|\n",
    "| brewedcoffee  | Brewed Coffee | 120.00 |\n",
    "| espresso      | Espresso      | 140.00 |\n",
    "| americano     | Americano     | 150.00 |\n",
    "| capuccino     | Capuccino     | 170.00 |\n"
   ]
  },
  {
   "cell_type": "markdown",
   "metadata": {},
   "source": [
    "A Python dictionary containing the product information has already been created by someone else:\n",
    "    "
   ]
  },
  {
   "cell_type": "code",
   "execution_count": 2,
   "metadata": {},
   "outputs": [],
   "source": [
    "products = {\n",
    "    \"brewedcoffee\":{\"name\":\"Brewed Coffee\",\"price\":120.00},\n",
    "    \"espresso\":{\"name\":\"Espresso\",\"price\":140.00},\n",
    "    \"americano\":{\"name\":\"Americano\",\"price\":150.00},\n",
    "    \"capuccino\":{\"name\":\"Capuccino\",\"price\":170.00},\n",
    "            }"
   ]
  },
  {
   "cell_type": "markdown",
   "metadata": {},
   "source": [
    "### 1. product information lookup function (3 points)\n",
    "\n",
    "Write a function ```get_product(code)``` where code is the key of the product information in the products dictionary. The function should return the dictionary containing the specific product information.\n",
    "For example:\n",
    "\n",
    "\n",
    "**```get_product(\"espresso\")```**\n",
    "\n",
    "should yield\n",
    "\n",
    "**```{\"name\":\"Espresso\",\"price\":140.00}```**\n"
   ]
  },
  {
   "cell_type": "code",
   "execution_count": 3,
   "metadata": {},
   "outputs": [
    {
     "data": {
      "text/plain": [
       "{'name': 'Espresso', 'price': 140.0}"
      ]
     },
     "execution_count": 3,
     "metadata": {},
     "output_type": "execute_result"
    }
   ],
   "source": [
    "## Answer\n",
    "\n",
    "def get_product(code):\n",
    "    ## write your code here\n",
    "      return products[code]\n",
    "\n",
    "get_product(\"espresso\")"
   ]
  },
  {
   "cell_type": "markdown",
   "metadata": {},
   "source": [
    "### 2. retrieve product attributes (2 points)\n",
    "a. Write one line of code that calls ```get_product(code)``` and returns the price of that product.\n"
   ]
  },
  {
   "cell_type": "code",
   "execution_count": 4,
   "metadata": {},
   "outputs": [
    {
     "data": {
      "text/plain": [
       "140.0"
      ]
     },
     "execution_count": 4,
     "metadata": {},
     "output_type": "execute_result"
    }
   ],
   "source": [
    "## Answer:\n",
    "\n",
    "## write your answer here\n",
    "get_product(\"espresso\")[\"price\"]"
   ]
  },
  {
   "cell_type": "markdown",
   "metadata": {},
   "source": [
    "b. Write one line of code that calls ```get_product(code)``` and returns the name of that product."
   ]
  },
  {
   "cell_type": "code",
   "execution_count": 5,
   "metadata": {},
   "outputs": [
    {
     "data": {
      "text/plain": [
       "'Espresso'"
      ]
     },
     "execution_count": 5,
     "metadata": {},
     "output_type": "execute_result"
    }
   ],
   "source": [
    "## Answer:\n",
    "\n",
    "## write your answer here\n",
    "get_product(\"espresso\")[\"name\"]"
   ]
  },
  {
   "cell_type": "markdown",
   "metadata": {},
   "source": [
    "### 2. Point-of-Sale Terminal  (5 points)\n",
    "\n",
    "Write a function ```main``` that asks for orders of food from a customer. The system should ask for the following:\n",
    "* Product Code (assume that the clerk has memorized the product codes)\n",
    "* Quantity\n",
    "\n",
    "The system then must update an electronic **food tray** (which is just a fancy term for a list of items ordered). Implement the food tray as a list of ordered items, each of which is a *dictionary* containing the following key-value pairs: \n",
    "\n",
    "* product_code, \n",
    "* quantity\n",
    "* subtotal *(which is just the quantity multiplied by the price of the product)*\n",
    "\n",
    "Design your program such that **food_tray** is a variable of the **main** function for now. We will deal with better software design later on. In any case, if any of your functions need to work on the food_tray, pass it as a parameter.\n",
    "\n",
    "The system must compute the subtotal before appending to the food tray.\n",
    "\n",
    "The system must be able to determine if the customer is done with his/her order. Once done, the system notifies the clerk/user of the grand total. \n",
    "\n",
    "The system then prints out the receipt (for now, just show it appear in the notebook), after which it is ready to process the next customer order. Make sure to clear out the food_tray after each successful order.\n",
    "\n",
    "**Bonus (2 points):**\n",
    "Format the receipt output using various print formatting options. You will have to do research on this.\n",
    "\n",
    "**Bonus (2 points):**\n",
    "If the cashier enters an invalid product code, handle the errors gracefully. For one, the system should not bomb out while processing something invalid; rather, it should tell the cashier that he/she entered an invalid product code and to try again.\n",
    "Note that you will have to do research on Error and Exception handling."
   ]
  },
  {
   "cell_type": "code",
   "execution_count": 6,
   "metadata": {},
   "outputs": [],
   "source": [
    "def add_to_tray(food_tray, ordered_item):\n",
    "    ## write your code here\n",
    "    food_tray.append(ordered_item)\n",
    "    ## hint: append to the food_tray list\n",
    "\n"
   ]
  },
  {
   "cell_type": "code",
   "execution_count": 7,
   "metadata": {},
   "outputs": [],
   "source": [
    "def generate_receipt(food_tray):\n",
    "    ## write your code here\n",
    "    print(\"{:^40}\".format(\"CoffeePython Receipt\"))\n",
    "    print(\"{:<10}   ||   {:>8}   ||    {:>10}\".format(\"Product\", \"Quantity\", \"Subtotal\"))\n",
    "    \n",
    "    for item in food_tray:\n",
    "        item_code = item[\"code\"]\n",
    "        item_name = products[item_code][\"name\"]\n",
    "        item_qty = item[\"qty\"]\n",
    "        item_subtotal = item[\"subtotal\"]\n",
    "        print(\"{:<10} {:>12} {:>20}\".format(item_name, item_qty, item_subtotal))\n",
    "    ## it is expected you will use print instead of returning a value\n",
    "    ## hint: use accumulator pattern and loop through the items in the food tray\n",
    "    ## hint: you will have to look up the product name from the products dictionary to make the receipt\n",
    "    ##       more presentable"
   ]
  },
  {
   "cell_type": "code",
   "execution_count": 10,
   "metadata": {},
   "outputs": [],
   "source": [
    "def main():\n",
    "    \n",
    "    products = {\n",
    "    \"brewedcoffee\":{\"name\":\"Brewed Coffee\",\"price\":120.00},\n",
    "    \"espresso\":{\"name\":\"Espresso\",\"price\":140.00},\n",
    "    \"americano\":{\"name\":\"Americano\",\"price\":150.00},\n",
    "    \"capuccino\":{\"name\":\"Capuccino\",\"price\":170.00},\n",
    "                }\n",
    "    \n",
    "    food_tray = []\n",
    "    command = \"N\"\n",
    "    Total = 0\n",
    "    while(True):\n",
    "        command = input(\"Options: N-New customer, Q-Quit \")\n",
    "        if(command.upper()==\"Q\"):\n",
    "            break\n",
    "        else:\n",
    "            more = \"Y\"\n",
    "            while(more==\"Y\"):\n",
    "                correct_code = False\n",
    "                while (not correct_code):\n",
    "                    code = input(\"Enter Product Code: \")\n",
    "                    if code in products:\n",
    "                        correct_code = True\n",
    "                    else:\n",
    "                        print(\"Invalid product code. Try again.\")\n",
    "                qty = int(input(\"Enter Quantity\"))\n",
    "                print(code + \": \"+str(qty))\n",
    "                \n",
    "                ordered_item = dict()                \n",
    "                ## add your code here\n",
    "                subtotal = get_product(code)[\"price\"]*qty\n",
    "                Total += subtotal\n",
    "                ordered_item = dict([\n",
    "                    (\"code\",code),\n",
    "                    (\"qty\",qty),\n",
    "                    (\"subtotal\",subtotal)\n",
    "                ])\n",
    "                \n",
    "                add_to_tray(food_tray, ordered_item)\n",
    "                ## hint: add the key-value pairs for code, qty and subtotal to ordered_item, which was already\n",
    "                ##       initialized for you here.\n",
    "                ## hint: subtotal = qty * price. Now how do you get the price?\n",
    "                ## compute subtotal and add to the ordered_item dictionary\n",
    "                \n",
    "                ## add to food_tray\n",
    "                ## call add_to_tray and pass the parameters food_tray and ordered_item\n",
    "\n",
    "                more = input(\"Add more items? (Y/N): \").upper()\n",
    "                \n",
    "        generate_receipt(food_tray)\n",
    "        print(\"{:>39}{}\".format(\"Total:\",Total))\n",
    "        food_tray = [] # clear out food tray\n",
    "        Total = 0\n",
    "        \n",
    "    print(\"Exiting CoffeePython POS Terminal. Have a great day.\")\n",
    "        "
   ]
  },
  {
   "cell_type": "code",
   "execution_count": 11,
   "metadata": {},
   "outputs": [
    {
     "name": "stdout",
     "output_type": "stream",
     "text": [
      "Options: N-New customer, Q-Quit N\n",
      "Enter Product Code: fdas\n",
      "Invalid product code. Try again.\n",
      "Enter Product Code: espresso\n",
      "Enter Quantity5\n",
      "espresso: 5\n",
      "Add more items? (Y/N): N\n",
      "          CoffeePython Receipt          \n",
      "Product      ||   Quantity   ||      Subtotal\n",
      "Espresso              5                700.0\n",
      "                                 Total:700.0\n",
      "Options: N-New customer, Q-Quit N\n",
      "Enter Product Code: americano\n",
      "Enter Quantity5\n",
      "americano: 5\n",
      "Add more items? (Y/N): Y\n",
      "Enter Product Code: fdsa\n",
      "Invalid product code. Try again.\n",
      "Enter Product Code: espresso\n",
      "Enter Quantity2\n",
      "espresso: 2\n",
      "Add more items? (Y/N): N\n",
      "          CoffeePython Receipt          \n",
      "Product      ||   Quantity   ||      Subtotal\n",
      "Americano             5                750.0\n",
      "Espresso              2                280.0\n",
      "                                 Total:1030.0\n",
      "Options: N-New customer, Q-Quit Q\n",
      "Exiting CoffeePython POS Terminal. Have a great day.\n"
     ]
    }
   ],
   "source": [
    "main()"
   ]
  },
  {
   "cell_type": "code",
   "execution_count": null,
   "metadata": {},
   "outputs": [],
   "source": []
  }
 ],
 "metadata": {
  "kernelspec": {
   "display_name": "Python 3",
   "language": "python",
   "name": "python3"
  }
 },
 "nbformat": 4,
 "nbformat_minor": 2
}
